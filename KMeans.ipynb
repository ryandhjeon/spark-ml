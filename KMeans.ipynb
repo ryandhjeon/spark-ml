{
 "cells": [
  {
   "cell_type": "code",
   "execution_count": 1,
   "id": "instant-celebration",
   "metadata": {},
   "outputs": [],
   "source": [
    "import findspark\n",
    "findspark.init()\n",
    "\n",
    "from pyspark import SparkContext, SparkConf\n",
    "from pyspark.sql import SparkSession\n",
    "from pyspark.ml.linalg import Vectors\n",
    "from pyspark.ml.feature import VectorAssembler, StandardScaler\n",
    "from pyspark.ml.clustering import KMeans\n",
    "from pyspark.ml.evaluation import ClusteringEvaluator"
   ]
  },
  {
   "cell_type": "code",
   "execution_count": 2,
   "id": "entitled-irish",
   "metadata": {},
   "outputs": [],
   "source": [
    "spark = SparkSession \\\n",
    "    .builder \\\n",
    "    .appName(\"KMeans\") \\\n",
    "    .getOrCreate()\n",
    "\n",
    "sc = spark.sparkContext"
   ]
  },
  {
   "cell_type": "code",
   "execution_count": 3,
   "id": "saved-bookmark",
   "metadata": {},
   "outputs": [
    {
     "data": {
      "text/plain": [
       "250"
      ]
     },
     "execution_count": 3,
     "metadata": {},
     "output_type": "execute_result"
    }
   ],
   "source": [
    "data = sc.textFile(\"./dataset/Qualitative_Bankruptcy.txt\")\n",
    "data.count()"
   ]
  },
  {
   "cell_type": "markdown",
   "id": "reserved-baptist",
   "metadata": {},
   "source": [
    "### Prepare data for the logistic regression algorithm"
   ]
  },
  {
   "cell_type": "code",
   "execution_count": 4,
   "id": "opponent-power",
   "metadata": {},
   "outputs": [],
   "source": [
    "def getDoubleValue(input):\n",
    "    result = 0.0\n",
    "    if (input == 'P'):\n",
    "        result = 3.0\n",
    "    if (input == 'A'): \n",
    "        result = 2.0\n",
    "    if (input == 'N'): \n",
    "        result = 1.0\n",
    "    if (input == 'NB'): \n",
    "        result = 1.0        \n",
    "    if (input == 'B'): \n",
    "        result = 0.0      \n",
    "    return result"
   ]
  },
  {
   "cell_type": "code",
   "execution_count": 5,
   "id": "designed-curve",
   "metadata": {},
   "outputs": [],
   "source": [
    "dataTuple = data.map(lambda o: (getDoubleValue(o.split(\",\")[0]),getDoubleValue(o.split(\",\")[1]),getDoubleValue(o.split(\",\")[2]),getDoubleValue(o.split(\",\")[3]),getDoubleValue(o.split(\",\")[4]),getDoubleValue(o.split(\",\")[5]),getDoubleValue(o.split(\",\")[6])))"
   ]
  },
  {
   "cell_type": "code",
   "execution_count": 6,
   "id": "comprehensive-termination",
   "metadata": {},
   "outputs": [],
   "source": [
    "df = dataTuple.toDF(['Industrial Risk','Management Risk','Financial Flexibility','Credibility','Competitiveness','Operating Risk','Class'])"
   ]
  },
  {
   "cell_type": "code",
   "execution_count": 7,
   "id": "worse-words",
   "metadata": {},
   "outputs": [
    {
     "name": "stdout",
     "output_type": "stream",
     "text": [
      "+---------------+---------------+---------------------+-----------+---------------+--------------+-----+\n",
      "|Industrial Risk|Management Risk|Financial Flexibility|Credibility|Competitiveness|Operating Risk|Class|\n",
      "+---------------+---------------+---------------------+-----------+---------------+--------------+-----+\n",
      "|            3.0|            3.0|                  2.0|        2.0|            2.0|           3.0|  1.0|\n",
      "|            1.0|            1.0|                  2.0|        2.0|            2.0|           1.0|  1.0|\n",
      "|            2.0|            2.0|                  2.0|        2.0|            2.0|           2.0|  1.0|\n",
      "|            3.0|            3.0|                  3.0|        3.0|            3.0|           3.0|  1.0|\n",
      "|            1.0|            1.0|                  3.0|        3.0|            3.0|           1.0|  1.0|\n",
      "+---------------+---------------+---------------------+-----------+---------------+--------------+-----+\n",
      "only showing top 5 rows\n",
      "\n"
     ]
    }
   ],
   "source": [
    "df.show(5)"
   ]
  },
  {
   "cell_type": "code",
   "execution_count": 8,
   "id": "arbitrary-carolina",
   "metadata": {},
   "outputs": [
    {
     "name": "stdout",
     "output_type": "stream",
     "text": [
      "root\n",
      " |-- Industrial Risk: double (nullable = true)\n",
      " |-- Management Risk: double (nullable = true)\n",
      " |-- Financial Flexibility: double (nullable = true)\n",
      " |-- Credibility: double (nullable = true)\n",
      " |-- Competitiveness: double (nullable = true)\n",
      " |-- Operating Risk: double (nullable = true)\n",
      " |-- Class: double (nullable = true)\n",
      "\n"
     ]
    }
   ],
   "source": [
    "df.printSchema()"
   ]
  },
  {
   "cell_type": "code",
   "execution_count": 9,
   "id": "employed-cancellation",
   "metadata": {},
   "outputs": [
    {
     "name": "stdout",
     "output_type": "stream",
     "text": [
      "+-----+-----+\n",
      "|Class|count|\n",
      "+-----+-----+\n",
      "|  0.0|  107|\n",
      "|  1.0|  143|\n",
      "+-----+-----+\n",
      "\n"
     ]
    }
   ],
   "source": [
    "df.groupby('Class').count().show()"
   ]
  },
  {
   "cell_type": "code",
   "execution_count": 10,
   "id": "rural-heating",
   "metadata": {},
   "outputs": [
    {
     "name": "stdout",
     "output_type": "stream",
     "text": [
      "+-------------------------+\n",
      "|features                 |\n",
      "+-------------------------+\n",
      "|[3.0,3.0,2.0,2.0,2.0,3.0]|\n",
      "|[1.0,1.0,2.0,2.0,2.0,1.0]|\n",
      "|[2.0,2.0,2.0,2.0,2.0,2.0]|\n",
      "|[3.0,3.0,3.0,3.0,3.0,3.0]|\n",
      "|[1.0,1.0,3.0,3.0,3.0,1.0]|\n",
      "|[2.0,2.0,3.0,3.0,3.0,2.0]|\n",
      "|[3.0,3.0,2.0,3.0,3.0,3.0]|\n",
      "|[3.0,3.0,3.0,2.0,2.0,3.0]|\n",
      "|[3.0,3.0,2.0,3.0,2.0,3.0]|\n",
      "|[3.0,3.0,2.0,2.0,3.0,3.0]|\n",
      "|[3.0,3.0,3.0,3.0,2.0,3.0]|\n",
      "|[3.0,3.0,3.0,2.0,3.0,3.0]|\n",
      "|[1.0,1.0,2.0,3.0,3.0,1.0]|\n",
      "|[1.0,1.0,3.0,2.0,2.0,1.0]|\n",
      "|[1.0,1.0,2.0,3.0,2.0,1.0]|\n",
      "|[1.0,1.0,2.0,3.0,2.0,1.0]|\n",
      "|[1.0,1.0,2.0,2.0,3.0,1.0]|\n",
      "|[1.0,1.0,3.0,3.0,2.0,1.0]|\n",
      "|[1.0,1.0,3.0,2.0,3.0,1.0]|\n",
      "|[2.0,2.0,2.0,3.0,3.0,2.0]|\n",
      "+-------------------------+\n",
      "only showing top 20 rows\n",
      "\n"
     ]
    }
   ],
   "source": [
    "ignore = ['Class']\n",
    "assembler = VectorAssembler(\n",
    "    inputCols=[x for x in df.columns if x not in ignore],\n",
    "    outputCol='features')\n",
    "\n",
    "assembler_df = assembler.transform(df)\n",
    "assembler_df.select(\"features\").show(truncate=False)"
   ]
  },
  {
   "cell_type": "markdown",
   "id": "innovative-turtle",
   "metadata": {},
   "source": [
    "### Standard scaler"
   ]
  },
  {
   "cell_type": "code",
   "execution_count": 11,
   "id": "simple-album",
   "metadata": {},
   "outputs": [],
   "source": [
    "scaler = StandardScaler().setInputCol('features').setOutputCol('scaled_features')\n",
    "\n",
    "scaler_model = scaler.fit(assembler_df)\n",
    "scaler_df = scaler_model.transform(assembler_df)"
   ]
  },
  {
   "cell_type": "code",
   "execution_count": 12,
   "id": "descending-script",
   "metadata": {},
   "outputs": [
    {
     "name": "stdout",
     "output_type": "stream",
     "text": [
      "+---------------+---------------+---------------------+-----------+---------------+--------------+-----+--------------------+--------------------+\n",
      "|Industrial Risk|Management Risk|Financial Flexibility|Credibility|Competitiveness|Operating Risk|Class|            features|     scaled_features|\n",
      "+---------------+---------------+---------------------+-----------+---------------+--------------+-----+--------------------+--------------------+\n",
      "|            3.0|            3.0|                  2.0|        2.0|            2.0|           3.0|  1.0|[3.0,3.0,2.0,2.0,...|[3.64497271330941...|\n",
      "|            1.0|            1.0|                  2.0|        2.0|            2.0|           1.0|  1.0|[1.0,1.0,2.0,2.0,...|[1.21499090443647...|\n",
      "|            2.0|            2.0|                  2.0|        2.0|            2.0|           2.0|  1.0|[2.0,2.0,2.0,2.0,...|[2.42998180887294...|\n",
      "|            3.0|            3.0|                  3.0|        3.0|            3.0|           3.0|  1.0|[3.0,3.0,3.0,3.0,...|[3.64497271330941...|\n",
      "|            1.0|            1.0|                  3.0|        3.0|            3.0|           1.0|  1.0|[1.0,1.0,3.0,3.0,...|[1.21499090443647...|\n",
      "+---------------+---------------+---------------------+-----------+---------------+--------------+-----+--------------------+--------------------+\n",
      "only showing top 5 rows\n",
      "\n"
     ]
    }
   ],
   "source": [
    "scaler_df.show(5)"
   ]
  },
  {
   "cell_type": "markdown",
   "id": "three-receipt",
   "metadata": {},
   "source": [
    "### Split train & test"
   ]
  },
  {
   "cell_type": "code",
   "execution_count": 13,
   "id": "turned-arrow",
   "metadata": {},
   "outputs": [
    {
     "name": "stdout",
     "output_type": "stream",
     "text": [
      "Training Dataset Count:152\n",
      "Test Dataset Count:98\n"
     ]
    }
   ],
   "source": [
    "train_data, test_data = scaler_df.randomSplit([0.6, 0.4], seed=11)\n",
    "\n",
    "print(\"Training Dataset Count:\" + str(train_data.count()))\n",
    "print(\"Test Dataset Count:\" + str(test_data.count()))"
   ]
  },
  {
   "cell_type": "markdown",
   "id": "associate-department",
   "metadata": {},
   "source": [
    "### KMeans model"
   ]
  },
  {
   "cell_type": "code",
   "execution_count": 14,
   "id": "accomplished-juvenile",
   "metadata": {
    "scrolled": true
   },
   "outputs": [],
   "source": [
    "kmeans = KMeans(featuresCol='scaled_features', k=4)\n",
    "model = kmeans.fit(train_data)\n",
    "output = model.transform(test_data)"
   ]
  },
  {
   "cell_type": "code",
   "execution_count": 15,
   "id": "polyphonic-purpose",
   "metadata": {
    "scrolled": true
   },
   "outputs": [
    {
     "name": "stdout",
     "output_type": "stream",
     "text": [
      "+---------------+---------------+---------------------+-----------+---------------+--------------+-----+--------------------+--------------------+----------+\n",
      "|Industrial Risk|Management Risk|Financial Flexibility|Credibility|Competitiveness|Operating Risk|Class|            features|     scaled_features|prediction|\n",
      "+---------------+---------------+---------------------+-----------+---------------+--------------+-----+--------------------+--------------------+----------+\n",
      "|            1.0|            1.0|                  2.0|        3.0|            3.0|           1.0|  1.0|[1.0,1.0,2.0,3.0,...|[1.21499090443647...|         2|\n",
      "|            1.0|            1.0|                  2.0|        3.0|            3.0|           1.0|  1.0|[1.0,1.0,2.0,3.0,...|[1.21499090443647...|         2|\n",
      "|            1.0|            1.0|                  3.0|        2.0|            2.0|           1.0|  1.0|[1.0,1.0,3.0,2.0,...|[1.21499090443647...|         2|\n",
      "|            1.0|            1.0|                  3.0|        2.0|            3.0|           3.0|  1.0|[1.0,1.0,3.0,2.0,...|[1.21499090443647...|         2|\n",
      "|            1.0|            1.0|                  3.0|        3.0|            2.0|           1.0|  1.0|[1.0,1.0,3.0,3.0,...|[1.21499090443647...|         2|\n",
      "+---------------+---------------+---------------------+-----------+---------------+--------------+-----+--------------------+--------------------+----------+\n",
      "only showing top 5 rows\n",
      "\n"
     ]
    }
   ],
   "source": [
    "output.show(5)"
   ]
  },
  {
   "cell_type": "code",
   "execution_count": 16,
   "id": "chemical-pricing",
   "metadata": {},
   "outputs": [
    {
     "name": "stdout",
     "output_type": "stream",
     "text": [
      "Cluster centroids: \n",
      "[2.84763493 2.96745736 2.84032043 2.96952066 2.96060856 2.64266819]\n",
      "[1.2149909  1.53046885 1.31621894 1.64961437 1.13460448 2.07098895]\n",
      "[1.59867224 1.28149306 2.81779445 3.16537845 2.92608523 1.63499127]\n",
      "[3.00174223 1.75451476 1.31831149 1.30897709 1.36819952 1.65814474]\n"
     ]
    }
   ],
   "source": [
    "centroids = model.clusterCenters()\n",
    "print(\"Cluster centroids: \")\n",
    "for centroid in centroids:\n",
    "    print(centroid)"
   ]
  },
  {
   "cell_type": "code",
   "execution_count": 17,
   "id": "prepared-milan",
   "metadata": {},
   "outputs": [],
   "source": [
    "silhouette_score=[]\n",
    "evaluator = ClusteringEvaluator(predictionCol='prediction', featuresCol='scaled_features', \\\n",
    "                                metricName='silhouette', distanceMeasure='squaredEuclidean')"
   ]
  },
  {
   "cell_type": "code",
   "execution_count": 18,
   "id": "fuzzy-pierre",
   "metadata": {},
   "outputs": [
    {
     "name": "stdout",
     "output_type": "stream",
     "text": [
      "Silhouette Score: 0.37475611001942133\n"
     ]
    }
   ],
   "source": [
    "score=evaluator.evaluate(output)    \n",
    "silhouette_score.append(score)\n",
    "print(\"Silhouette Score:\",score)"
   ]
  },
  {
   "cell_type": "markdown",
   "id": "electoral-frequency",
   "metadata": {},
   "source": [
    "__Silhouette score of 0.5 is not a very good score, meaning the data was not clustered completely.__"
   ]
  },
  {
   "cell_type": "code",
   "execution_count": null,
   "id": "increasing-tourism",
   "metadata": {},
   "outputs": [],
   "source": []
  }
 ],
 "metadata": {
  "kernelspec": {
   "display_name": "Python 3",
   "language": "python",
   "name": "python3"
  },
  "language_info": {
   "codemirror_mode": {
    "name": "ipython",
    "version": 3
   },
   "file_extension": ".py",
   "mimetype": "text/x-python",
   "name": "python",
   "nbconvert_exporter": "python",
   "pygments_lexer": "ipython3",
   "version": "3.8.8"
  }
 },
 "nbformat": 4,
 "nbformat_minor": 5
}
