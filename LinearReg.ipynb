{
 "cells": [
  {
   "cell_type": "code",
   "execution_count": 1,
   "id": "anonymous-progressive",
   "metadata": {},
   "outputs": [],
   "source": [
    "import findspark\n",
    "findspark.init()\n",
    "\n",
    "from pyspark import SparkContext, SparkConf\n",
    "from pyspark.sql import SparkSession\n",
    "from pyspark.ml.evaluation import RegressionEvaluator\n",
    "from pyspark.ml.regression import LinearRegression\n",
    "from pyspark.ml.tuning import ParamGridBuilder, TrainValidationSplit\n",
    "from pyspark.ml.linalg import Vectors\n",
    "from pyspark.ml.feature import VectorAssembler"
   ]
  },
  {
   "cell_type": "code",
   "execution_count": 2,
   "id": "coordinate-franchise",
   "metadata": {},
   "outputs": [],
   "source": [
    "spark = SparkSession \\\n",
    "    .builder \\\n",
    "    .appName(\"Linear regression\") \\\n",
    "    .getOrCreate()\n",
    "\n",
    "sc = spark.sparkContext"
   ]
  },
  {
   "cell_type": "code",
   "execution_count": 7,
   "id": "lyric-relations",
   "metadata": {},
   "outputs": [],
   "source": [
    "ecomm_df = spark.read.option('header',True).option('inferSchema',True).csv('./dataset/EcommerceCustomers.csv')"
   ]
  },
  {
   "cell_type": "code",
   "execution_count": 8,
   "id": "egyptian-amendment",
   "metadata": {},
   "outputs": [
    {
     "name": "stdout",
     "output_type": "stream",
     "text": [
      "root\n",
      " |-- Avg Session Length: double (nullable = true)\n",
      " |-- Time on App: double (nullable = true)\n",
      " |-- Time on Website: double (nullable = true)\n",
      " |-- Length of Membership: double (nullable = true)\n",
      " |-- Yearly Amount Spent: double (nullable = true)\n",
      "\n"
     ]
    }
   ],
   "source": [
    "ecomm_df.printSchema()"
   ]
  },
  {
   "cell_type": "code",
   "execution_count": 9,
   "id": "dominican-borough",
   "metadata": {},
   "outputs": [
    {
     "name": "stdout",
     "output_type": "stream",
     "text": [
      "+------------------+-----------+---------------+--------------------+-------------------+\n",
      "|Avg Session Length|Time on App|Time on Website|Length of Membership|Yearly Amount Spent|\n",
      "+------------------+-----------+---------------+--------------------+-------------------+\n",
      "|       34.49726773|12.65565115|    39.57766802|         4.082620633|         587.951054|\n",
      "|       31.92627203|11.10946073|    37.26895887|         2.664034182|        392.2049334|\n",
      "|       33.00091476|11.33027806|    37.11059744|         4.104543202|        487.5475049|\n",
      "|       34.30555663|13.71751367|    36.72128268|         3.120178783|         581.852344|\n",
      "|       33.33067252|12.79518855|     37.5366533|         4.446308318|         599.406092|\n",
      "+------------------+-----------+---------------+--------------------+-------------------+\n",
      "only showing top 5 rows\n",
      "\n"
     ]
    }
   ],
   "source": [
    "ecomm_df.show(5)"
   ]
  },
  {
   "cell_type": "code",
   "execution_count": 12,
   "id": "interracial-inside",
   "metadata": {},
   "outputs": [],
   "source": [
    "ignore = ['Yearly Amount Spent']\n",
    "assembler = VectorAssembler(\n",
    "    inputCols=[x for x in ecomm_df.columns if x not in ignore],\n",
    "    outputCol='features')\n",
    "\n",
    "assembler_df = assembler.transform(ecomm_df)"
   ]
  },
  {
   "cell_type": "code",
   "execution_count": 13,
   "id": "valued-active",
   "metadata": {},
   "outputs": [
    {
     "name": "stdout",
     "output_type": "stream",
     "text": [
      "+------------------+-----------+---------------+--------------------+-------------------+--------------------+\n",
      "|Avg Session Length|Time on App|Time on Website|Length of Membership|Yearly Amount Spent|            features|\n",
      "+------------------+-----------+---------------+--------------------+-------------------+--------------------+\n",
      "|       34.49726773|12.65565115|    39.57766802|         4.082620633|         587.951054|[34.49726773,12.6...|\n",
      "|       31.92627203|11.10946073|    37.26895887|         2.664034182|        392.2049334|[31.92627203,11.1...|\n",
      "|       33.00091476|11.33027806|    37.11059744|         4.104543202|        487.5475049|[33.00091476,11.3...|\n",
      "|       34.30555663|13.71751367|    36.72128268|         3.120178783|         581.852344|[34.30555663,13.7...|\n",
      "|       33.33067252|12.79518855|     37.5366533|         4.446308318|         599.406092|[33.33067252,12.7...|\n",
      "+------------------+-----------+---------------+--------------------+-------------------+--------------------+\n",
      "only showing top 5 rows\n",
      "\n"
     ]
    }
   ],
   "source": [
    "assembler_df.show(5)"
   ]
  },
  {
   "cell_type": "code",
   "execution_count": 14,
   "id": "express-detroit",
   "metadata": {},
   "outputs": [
    {
     "name": "stdout",
     "output_type": "stream",
     "text": [
      "root\n",
      " |-- Avg Session Length: double (nullable = true)\n",
      " |-- Time on App: double (nullable = true)\n",
      " |-- Time on Website: double (nullable = true)\n",
      " |-- Length of Membership: double (nullable = true)\n",
      " |-- Yearly Amount Spent: double (nullable = true)\n",
      " |-- features: vector (nullable = true)\n",
      "\n"
     ]
    }
   ],
   "source": [
    "assembler_df.printSchema()"
   ]
  },
  {
   "cell_type": "code",
   "execution_count": 15,
   "id": "changed-wedding",
   "metadata": {},
   "outputs": [],
   "source": [
    "label_df = assembler_df.withColumnRenamed('Yearly Amount Spent','label').drop('Avg Session Length','Time on App','Time on Website','Length of Membership')"
   ]
  },
  {
   "cell_type": "code",
   "execution_count": 16,
   "id": "sunset-rehabilitation",
   "metadata": {},
   "outputs": [
    {
     "name": "stdout",
     "output_type": "stream",
     "text": [
      "+-----------+--------------------+\n",
      "|      label|            features|\n",
      "+-----------+--------------------+\n",
      "| 587.951054|[34.49726773,12.6...|\n",
      "|392.2049334|[31.92627203,11.1...|\n",
      "|487.5475049|[33.00091476,11.3...|\n",
      "| 581.852344|[34.30555663,13.7...|\n",
      "| 599.406092|[33.33067252,12.7...|\n",
      "+-----------+--------------------+\n",
      "only showing top 5 rows\n",
      "\n"
     ]
    }
   ],
   "source": [
    "label_df.show(5)"
   ]
  },
  {
   "cell_type": "code",
   "execution_count": 17,
   "id": "outside-numbers",
   "metadata": {},
   "outputs": [
    {
     "name": "stdout",
     "output_type": "stream",
     "text": [
      "root\n",
      " |-- label: double (nullable = true)\n",
      " |-- features: vector (nullable = true)\n",
      "\n"
     ]
    }
   ],
   "source": [
    "label_df.printSchema()"
   ]
  },
  {
   "cell_type": "code",
   "execution_count": 18,
   "id": "warming-albert",
   "metadata": {},
   "outputs": [
    {
     "name": "stdout",
     "output_type": "stream",
     "text": [
      "Coefficients: [25.474157403886057,38.45929679241899,0.19719156059291088,61.3017744304752]\n",
      "Intercept: -1030.1338971065438\n"
     ]
    }
   ],
   "source": [
    "lr = LinearRegression(featuresCol = 'features', labelCol='label', maxIter=10, regParam=0.3, elasticNetParam=0.8)\n",
    "lr_model = lr.fit(label_df)\n",
    "print('Coefficients: ' + str(lr_model.coefficients))\n",
    "print('Intercept: ' + str(lr_model.intercept))"
   ]
  },
  {
   "cell_type": "code",
   "execution_count": 19,
   "id": "beginning-bulgaria",
   "metadata": {},
   "outputs": [
    {
     "name": "stdout",
     "output_type": "stream",
     "text": [
      "RMSE: 9.936872\n",
      "R-squared: 0.984272\n"
     ]
    }
   ],
   "source": [
    "lr_model_summary = lr_model.summary\n",
    "print('RMSE: %f' % lr_model_summary.rootMeanSquaredError)\n",
    "print('R-squared: %f' % lr_model_summary.r2)"
   ]
  },
  {
   "cell_type": "code",
   "execution_count": 20,
   "id": "bizarre-donna",
   "metadata": {},
   "outputs": [
    {
     "name": "stdout",
     "output_type": "stream",
     "text": [
      "+-------------------+\n",
      "|          residuals|\n",
      "+-------------------+\n",
      "| -5.507591981505698|\n",
      "| 11.122757414957675|\n",
      "|-17.677299844969582|\n",
      "| 12.001539220539257|\n",
      "|  8.406736193229563|\n",
      "|-1.7071851050116038|\n",
      "|   4.40754316973505|\n",
      "| -8.210234143973935|\n",
      "| 11.630460959496531|\n",
      "|-14.248859785107982|\n",
      "|-15.728731620118253|\n",
      "|  8.940784765675176|\n",
      "|   9.46480495209073|\n",
      "|  12.31025724421579|\n",
      "|   9.69839341574982|\n",
      "|  9.919111699675284|\n",
      "|   19.2070402531877|\n",
      "| -3.955725156662538|\n",
      "| -3.961465670905909|\n",
      "|  9.754952329374873|\n",
      "+-------------------+\n",
      "only showing top 20 rows\n",
      "\n"
     ]
    }
   ],
   "source": [
    "lr_model_summary.residuals.show()"
   ]
  }
 ],
 "metadata": {
  "kernelspec": {
   "display_name": "Python 3",
   "language": "python",
   "name": "python3"
  },
  "language_info": {
   "codemirror_mode": {
    "name": "ipython",
    "version": 3
   },
   "file_extension": ".py",
   "mimetype": "text/x-python",
   "name": "python",
   "nbconvert_exporter": "python",
   "pygments_lexer": "ipython3",
   "version": "3.8.8"
  }
 },
 "nbformat": 4,
 "nbformat_minor": 5
}
