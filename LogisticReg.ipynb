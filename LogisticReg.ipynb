{
 "cells": [
  {
   "cell_type": "code",
   "execution_count": 1,
   "id": "canadian-emission",
   "metadata": {},
   "outputs": [],
   "source": [
    "import findspark\n",
    "findspark.init()\n",
    "\n",
    "from pyspark import SparkContext, SparkConf\n",
    "from pyspark.sql import SparkSession\n",
    "from pyspark.ml.linalg import Vectors\n",
    "from pyspark.ml.feature import VectorAssembler, StandardScaler\n",
    "from pyspark.mllib.classification import LogisticRegressionWithLBFGS\n",
    "from pyspark.mllib.regression import LabeledPoint"
   ]
  },
  {
   "cell_type": "code",
   "execution_count": 2,
   "id": "cooked-laptop",
   "metadata": {},
   "outputs": [],
   "source": [
    "spark = SparkSession \\\n",
    "    .builder \\\n",
    "    .appName(\"Logistic regression\") \\\n",
    "    .getOrCreate()\n",
    "\n",
    "sc = spark.sparkContext"
   ]
  },
  {
   "cell_type": "markdown",
   "id": "incorporate-deficit",
   "metadata": {},
   "source": [
    "### Schema of data file Attribute Information:\n",
    "{P=Positive, A=Average, N=Negative, B=Bankruptcy, NB=Non Bankruptcy}\n",
    "\n",
    "1. Industrial Risk: {P,A,N}\n",
    "2. Management Risk: {P,A,N}\n",
    "3. Financial Flexibilitiy: {P,A,N}\n",
    "4. Credibility: {P,A,N}\n",
    "5. Competitiveness: {P,A,N}\n",
    "6. Operating Risk: {P,A,N}\n",
    "7. Class: {B,NB}"
   ]
  },
  {
   "cell_type": "markdown",
   "id": "historical-batman",
   "metadata": {},
   "source": [
    "### Transform each qualititative data in the dataset into a double numeric value"
   ]
  },
  {
   "cell_type": "code",
   "execution_count": 3,
   "id": "broken-minority",
   "metadata": {},
   "outputs": [],
   "source": [
    "def getDoubleValue(input):\n",
    "    result = 0.0\n",
    "    if (input == 'P'):\n",
    "        result = 3.0\n",
    "    if (input == 'A'): \n",
    "        result = 2.0\n",
    "    if (input == 'N'): \n",
    "        result = 1.0\n",
    "    if (input == 'NB'): \n",
    "        result = 1.0        \n",
    "    if (input == 'B'): \n",
    "        result = 0.0      \n",
    "    return result"
   ]
  },
  {
   "cell_type": "markdown",
   "id": "opening-married",
   "metadata": {},
   "source": [
    "### Read data into memory-in lazy loading (RDD way)"
   ]
  },
  {
   "cell_type": "code",
   "execution_count": 4,
   "id": "modular-colorado",
   "metadata": {},
   "outputs": [
    {
     "data": {
      "text/plain": [
       "250"
      ]
     },
     "execution_count": 4,
     "metadata": {},
     "output_type": "execute_result"
    }
   ],
   "source": [
    "data = sc.textFile(\"./dataset/Qualitative_Bankruptcy.txt\")\n",
    "data.count()"
   ]
  },
  {
   "cell_type": "markdown",
   "id": "acknowledged-helicopter",
   "metadata": {},
   "source": [
    "### Prepare data for the logistic regression algorithm"
   ]
  },
  {
   "cell_type": "code",
   "execution_count": 5,
   "id": "cardiac-collins",
   "metadata": {},
   "outputs": [],
   "source": [
    "dataTuple=data.map(lambda o: (getDoubleValue(o.split(\",\")[0]),getDoubleValue(o.split(\",\")[1]),getDoubleValue(o.split(\",\")[2]),getDoubleValue(o.split(\",\")[3]),getDoubleValue(o.split(\",\")[4]),getDoubleValue(o.split(\",\")[5]),getDoubleValue(o.split(\",\")[6])))"
   ]
  },
  {
   "cell_type": "code",
   "execution_count": 6,
   "id": "after-english",
   "metadata": {},
   "outputs": [],
   "source": [
    "df=dataTuple.toDF(['Industrial Risk','Management Risk','Financial Flexibility','Credibility','Competitiveness','Operating Risk','Class'])"
   ]
  },
  {
   "cell_type": "code",
   "execution_count": 7,
   "id": "fantastic-imagination",
   "metadata": {},
   "outputs": [
    {
     "name": "stdout",
     "output_type": "stream",
     "text": [
      "+---------------+---------------+---------------------+-----------+---------------+--------------+-----+\n",
      "|Industrial Risk|Management Risk|Financial Flexibility|Credibility|Competitiveness|Operating Risk|Class|\n",
      "+---------------+---------------+---------------------+-----------+---------------+--------------+-----+\n",
      "|            3.0|            3.0|                  2.0|        2.0|            2.0|           3.0|  1.0|\n",
      "|            1.0|            1.0|                  2.0|        2.0|            2.0|           1.0|  1.0|\n",
      "|            2.0|            2.0|                  2.0|        2.0|            2.0|           2.0|  1.0|\n",
      "|            3.0|            3.0|                  3.0|        3.0|            3.0|           3.0|  1.0|\n",
      "|            1.0|            1.0|                  3.0|        3.0|            3.0|           1.0|  1.0|\n",
      "+---------------+---------------+---------------------+-----------+---------------+--------------+-----+\n",
      "only showing top 5 rows\n",
      "\n"
     ]
    }
   ],
   "source": [
    "df.show(5)"
   ]
  },
  {
   "cell_type": "code",
   "execution_count": 8,
   "id": "adequate-trust",
   "metadata": {},
   "outputs": [
    {
     "name": "stdout",
     "output_type": "stream",
     "text": [
      "root\n",
      " |-- Industrial Risk: double (nullable = true)\n",
      " |-- Management Risk: double (nullable = true)\n",
      " |-- Financial Flexibility: double (nullable = true)\n",
      " |-- Credibility: double (nullable = true)\n",
      " |-- Competitiveness: double (nullable = true)\n",
      " |-- Operating Risk: double (nullable = true)\n",
      " |-- Class: double (nullable = true)\n",
      "\n"
     ]
    }
   ],
   "source": [
    "df.printSchema()"
   ]
  },
  {
   "cell_type": "code",
   "execution_count": 9,
   "id": "surprised-miller",
   "metadata": {},
   "outputs": [
    {
     "name": "stdout",
     "output_type": "stream",
     "text": [
      "+-----+-----+\n",
      "|Class|count|\n",
      "+-----+-----+\n",
      "|  0.0|  107|\n",
      "|  1.0|  143|\n",
      "+-----+-----+\n",
      "\n"
     ]
    }
   ],
   "source": [
    "df.groupby('Class').count().show()"
   ]
  },
  {
   "cell_type": "code",
   "execution_count": 10,
   "id": "exact-acting",
   "metadata": {},
   "outputs": [],
   "source": [
    "ignore = ['Class']\n",
    "assembler = VectorAssembler(\n",
    "    inputCols=[x for x in df.columns if x not in ignore],\n",
    "    outputCol='features')\n",
    "\n",
    "assembler_df = assembler.transform(df)"
   ]
  },
  {
   "cell_type": "code",
   "execution_count": 11,
   "id": "adult-novelty",
   "metadata": {},
   "outputs": [
    {
     "name": "stdout",
     "output_type": "stream",
     "text": [
      "+---------------+---------------+---------------------+-----------+---------------+--------------+-----+--------------------+\n",
      "|Industrial Risk|Management Risk|Financial Flexibility|Credibility|Competitiveness|Operating Risk|Class|            features|\n",
      "+---------------+---------------+---------------------+-----------+---------------+--------------+-----+--------------------+\n",
      "|            3.0|            3.0|                  2.0|        2.0|            2.0|           3.0|  1.0|[3.0,3.0,2.0,2.0,...|\n",
      "|            1.0|            1.0|                  2.0|        2.0|            2.0|           1.0|  1.0|[1.0,1.0,2.0,2.0,...|\n",
      "|            2.0|            2.0|                  2.0|        2.0|            2.0|           2.0|  1.0|[2.0,2.0,2.0,2.0,...|\n",
      "|            3.0|            3.0|                  3.0|        3.0|            3.0|           3.0|  1.0|[3.0,3.0,3.0,3.0,...|\n",
      "|            1.0|            1.0|                  3.0|        3.0|            3.0|           1.0|  1.0|[1.0,1.0,3.0,3.0,...|\n",
      "+---------------+---------------+---------------------+-----------+---------------+--------------+-----+--------------------+\n",
      "only showing top 5 rows\n",
      "\n"
     ]
    }
   ],
   "source": [
    "assembler_df.show(5)"
   ]
  },
  {
   "cell_type": "code",
   "execution_count": 12,
   "id": "italic-advancement",
   "metadata": {},
   "outputs": [
    {
     "name": "stdout",
     "output_type": "stream",
     "text": [
      "+---------------+---------------+---------------------+-----------+---------------+--------------+-----+--------------------+-----+\n",
      "|Industrial Risk|Management Risk|Financial Flexibility|Credibility|Competitiveness|Operating Risk|Class|            features|label|\n",
      "+---------------+---------------+---------------------+-----------+---------------+--------------+-----+--------------------+-----+\n",
      "|            3.0|            3.0|                  2.0|        2.0|            2.0|           3.0|  1.0|[3.0,3.0,2.0,2.0,...|  1.0|\n",
      "|            1.0|            1.0|                  2.0|        2.0|            2.0|           1.0|  1.0|[1.0,1.0,2.0,2.0,...|  1.0|\n",
      "|            2.0|            2.0|                  2.0|        2.0|            2.0|           2.0|  1.0|[2.0,2.0,2.0,2.0,...|  1.0|\n",
      "|            3.0|            3.0|                  3.0|        3.0|            3.0|           3.0|  1.0|[3.0,3.0,3.0,3.0,...|  1.0|\n",
      "|            1.0|            1.0|                  3.0|        3.0|            3.0|           1.0|  1.0|[1.0,1.0,3.0,3.0,...|  1.0|\n",
      "|            2.0|            2.0|                  3.0|        3.0|            3.0|           2.0|  1.0|[2.0,2.0,3.0,3.0,...|  1.0|\n",
      "|            3.0|            3.0|                  2.0|        3.0|            3.0|           3.0|  1.0|[3.0,3.0,2.0,3.0,...|  1.0|\n",
      "|            3.0|            3.0|                  3.0|        2.0|            2.0|           3.0|  1.0|[3.0,3.0,3.0,2.0,...|  1.0|\n",
      "|            3.0|            3.0|                  2.0|        3.0|            2.0|           3.0|  1.0|[3.0,3.0,2.0,3.0,...|  1.0|\n",
      "|            3.0|            3.0|                  2.0|        2.0|            3.0|           3.0|  1.0|[3.0,3.0,2.0,2.0,...|  1.0|\n",
      "|            3.0|            3.0|                  3.0|        3.0|            2.0|           3.0|  1.0|[3.0,3.0,3.0,3.0,...|  1.0|\n",
      "|            3.0|            3.0|                  3.0|        2.0|            3.0|           3.0|  1.0|[3.0,3.0,3.0,2.0,...|  1.0|\n",
      "|            1.0|            1.0|                  2.0|        3.0|            3.0|           1.0|  1.0|[1.0,1.0,2.0,3.0,...|  1.0|\n",
      "|            1.0|            1.0|                  3.0|        2.0|            2.0|           1.0|  1.0|[1.0,1.0,3.0,2.0,...|  1.0|\n",
      "|            1.0|            1.0|                  2.0|        3.0|            2.0|           1.0|  1.0|[1.0,1.0,2.0,3.0,...|  1.0|\n",
      "|            1.0|            1.0|                  2.0|        3.0|            2.0|           1.0|  1.0|[1.0,1.0,2.0,3.0,...|  1.0|\n",
      "|            1.0|            1.0|                  2.0|        2.0|            3.0|           1.0|  1.0|[1.0,1.0,2.0,2.0,...|  1.0|\n",
      "|            1.0|            1.0|                  3.0|        3.0|            2.0|           1.0|  1.0|[1.0,1.0,3.0,3.0,...|  1.0|\n",
      "|            1.0|            1.0|                  3.0|        2.0|            3.0|           1.0|  1.0|[1.0,1.0,3.0,2.0,...|  1.0|\n",
      "|            2.0|            2.0|                  2.0|        3.0|            3.0|           2.0|  1.0|[2.0,2.0,2.0,3.0,...|  1.0|\n",
      "+---------------+---------------+---------------------+-----------+---------------+--------------+-----+--------------------+-----+\n",
      "only showing top 20 rows\n",
      "\n"
     ]
    }
   ],
   "source": [
    "label_df = assembler_df.withColumn(\"label\", assembler_df[\"Class\"])\n",
    "label_df.show()"
   ]
  },
  {
   "cell_type": "markdown",
   "id": "signal-landscape",
   "metadata": {},
   "source": [
    "### Standard scaler"
   ]
  },
  {
   "cell_type": "code",
   "execution_count": 13,
   "id": "suburban-produce",
   "metadata": {},
   "outputs": [],
   "source": [
    "scaler = StandardScaler().setInputCol('features').setOutputCol('scaled_features')\n",
    "\n",
    "scaler_model = scaler.fit(label_df)\n",
    "scaler_df = scaler_model.transform(label_df)"
   ]
  },
  {
   "cell_type": "code",
   "execution_count": 14,
   "id": "similar-watson",
   "metadata": {},
   "outputs": [
    {
     "data": {
      "text/plain": [
       "PythonRDD[29] at RDD at PythonRDD.scala:53"
      ]
     },
     "execution_count": 14,
     "metadata": {},
     "output_type": "execute_result"
    }
   ],
   "source": [
    "parsed_data = scaler_df.rdd.map(lambda x: LabeledPoint(x[6], x[:6]))\n",
    "parsed_data"
   ]
  },
  {
   "cell_type": "code",
   "execution_count": 15,
   "id": "serious-permission",
   "metadata": {},
   "outputs": [
    {
     "data": {
      "text/plain": [
       "[LabeledPoint(1.0, [3.0,3.0,2.0,2.0,2.0,3.0]),\n",
       " LabeledPoint(1.0, [1.0,1.0,2.0,2.0,2.0,1.0]),\n",
       " LabeledPoint(1.0, [2.0,2.0,2.0,2.0,2.0,2.0]),\n",
       " LabeledPoint(1.0, [3.0,3.0,3.0,3.0,3.0,3.0]),\n",
       " LabeledPoint(1.0, [1.0,1.0,3.0,3.0,3.0,1.0])]"
      ]
     },
     "execution_count": 15,
     "metadata": {},
     "output_type": "execute_result"
    }
   ],
   "source": [
    "parsed_data.take(5)"
   ]
  },
  {
   "cell_type": "code",
   "execution_count": 16,
   "id": "derived-front",
   "metadata": {},
   "outputs": [
    {
     "data": {
      "text/plain": [
       "pyspark.rdd.PipelinedRDD"
      ]
     },
     "execution_count": 16,
     "metadata": {},
     "output_type": "execute_result"
    }
   ],
   "source": [
    "type(parsed_data)"
   ]
  },
  {
   "cell_type": "markdown",
   "id": "heard-herald",
   "metadata": {},
   "source": [
    "### Split train & test"
   ]
  },
  {
   "cell_type": "code",
   "execution_count": 17,
   "id": "architectural-break",
   "metadata": {},
   "outputs": [
    {
     "name": "stdout",
     "output_type": "stream",
     "text": [
      "Training Dataset Count:162\n",
      "Test Dataset Count:88\n"
     ]
    }
   ],
   "source": [
    "train_data, test_data = parsed_data.randomSplit([0.6, 0.4], seed=11)\n",
    "\n",
    "print(\"Training Dataset Count:\" + str(train_data.count()))\n",
    "print(\"Test Dataset Count:\" + str(test_data.count()))"
   ]
  },
  {
   "cell_type": "markdown",
   "id": "graduate-ecuador",
   "metadata": {},
   "source": [
    "### Evaluating the model on training data"
   ]
  },
  {
   "cell_type": "code",
   "execution_count": 18,
   "id": "pretty-concept",
   "metadata": {},
   "outputs": [],
   "source": [
    "model = LogisticRegressionWithLBFGS.train(train_data, numClasses=2)"
   ]
  },
  {
   "cell_type": "code",
   "execution_count": 19,
   "id": "extraordinary-degree",
   "metadata": {},
   "outputs": [],
   "source": [
    "labels_and_preds = parsed_data.map(lambda p: (p.label, model.predict(p.features)))"
   ]
  },
  {
   "cell_type": "code",
   "execution_count": 20,
   "id": "indie-multiple",
   "metadata": {},
   "outputs": [],
   "source": [
    "train_err = labels_and_preds.filter(lambda lp: lp[0] != lp[1]).count() / float(parsed_data.count())"
   ]
  },
  {
   "cell_type": "code",
   "execution_count": 21,
   "id": "graduate-intersection",
   "metadata": {},
   "outputs": [
    {
     "name": "stdout",
     "output_type": "stream",
     "text": [
      "Training Error = 0.188\n"
     ]
    },
    {
     "name": "stderr",
     "output_type": "stream",
     "text": [
      "----------------------------------------\n",
      "Exception happened during processing of request from ('127.0.0.1', 34902)\n",
      "Traceback (most recent call last):\n",
      "  File \"/opt/conda/lib/python3.8/socketserver.py\", line 316, in _handle_request_noblock\n",
      "    self.process_request(request, client_address)\n",
      "  File \"/opt/conda/lib/python3.8/socketserver.py\", line 347, in process_request\n",
      "    self.finish_request(request, client_address)\n",
      "  File \"/opt/conda/lib/python3.8/socketserver.py\", line 360, in finish_request\n",
      "    self.RequestHandlerClass(request, client_address, self)\n",
      "  File \"/opt/conda/lib/python3.8/socketserver.py\", line 720, in __init__\n",
      "    self.handle()\n",
      "  File \"/usr/local/spark/python/pyspark/accumulators.py\", line 268, in handle\n",
      "    poll(accum_updates)\n",
      "  File \"/usr/local/spark/python/pyspark/accumulators.py\", line 241, in poll\n",
      "    if func():\n",
      "  File \"/usr/local/spark/python/pyspark/accumulators.py\", line 245, in accum_updates\n",
      "    num_updates = read_int(self.rfile)\n",
      "  File \"/usr/local/spark/python/pyspark/serializers.py\", line 595, in read_int\n",
      "    raise EOFError\n",
      "EOFError\n",
      "----------------------------------------\n"
     ]
    }
   ],
   "source": [
    "print(\"Training Error = \" + str(train_err))"
   ]
  }
 ],
 "metadata": {
  "kernelspec": {
   "display_name": "Python 3",
   "language": "python",
   "name": "python3"
  },
  "language_info": {
   "codemirror_mode": {
    "name": "ipython",
    "version": 3
   },
   "file_extension": ".py",
   "mimetype": "text/x-python",
   "name": "python",
   "nbconvert_exporter": "python",
   "pygments_lexer": "ipython3",
   "version": "3.8.8"
  }
 },
 "nbformat": 4,
 "nbformat_minor": 5
}
